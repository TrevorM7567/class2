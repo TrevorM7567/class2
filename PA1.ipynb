{
 "cells": [
  {
   "cell_type": "code",
   "execution_count": 1,
   "id": "7e3225a5",
   "metadata": {},
   "outputs": [],
   "source": [
    "x=55.5"
   ]
  },
  {
   "cell_type": "code",
   "execution_count": 2,
   "id": "ddc02c93",
   "metadata": {},
   "outputs": [],
   "source": [
    "y=20"
   ]
  },
  {
   "cell_type": "code",
   "execution_count": 3,
   "id": "ac1c441a",
   "metadata": {},
   "outputs": [
    {
     "name": "stdout",
     "output_type": "stream",
     "text": [
      "75.5\n"
     ]
    }
   ],
   "source": [
    "total=x+y\n",
    "print(total)"
   ]
  },
  {
   "cell_type": "code",
   "execution_count": 4,
   "id": "7e46bb28",
   "metadata": {},
   "outputs": [
    {
     "name": "stdout",
     "output_type": "stream",
     "text": [
      "35.5\n"
     ]
    }
   ],
   "source": [
    "total=x-y\n",
    "print(total)"
   ]
  },
  {
   "cell_type": "code",
   "execution_count": 5,
   "id": "38f69069",
   "metadata": {},
   "outputs": [
    {
     "name": "stdout",
     "output_type": "stream",
     "text": [
      "1110.0\n"
     ]
    }
   ],
   "source": [
    "total=x*y\n",
    "print(total)"
   ]
  },
  {
   "cell_type": "code",
   "execution_count": 6,
   "id": "b9ed104d",
   "metadata": {},
   "outputs": [
    {
     "name": "stdout",
     "output_type": "stream",
     "text": [
      "2.775\n"
     ]
    }
   ],
   "source": [
    "total=x/y\n",
    "print(total)"
   ]
  },
  {
   "cell_type": "markdown",
   "id": "0ea9a13e",
   "metadata": {},
   "source": [
    "# Programming Assignment 1\n",
    "**Trevor McCormick** \n",
    "\n",
    "Version 1\n",
    "\n",
    "**CS-150-01 Bellarmine University**"
   ]
  },
  {
   "cell_type": "code",
   "execution_count": null,
   "id": "a55e5f3e",
   "metadata": {},
   "outputs": [],
   "source": []
  }
 ],
 "metadata": {
  "kernelspec": {
   "display_name": "Python 3",
   "language": "python",
   "name": "python3"
  },
  "language_info": {
   "codemirror_mode": {
    "name": "ipython",
    "version": 3
   },
   "file_extension": ".py",
   "mimetype": "text/x-python",
   "name": "python",
   "nbconvert_exporter": "python",
   "pygments_lexer": "ipython3",
   "version": "3.8.8"
  }
 },
 "nbformat": 4,
 "nbformat_minor": 5
}
