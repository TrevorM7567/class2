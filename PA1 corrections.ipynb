{
 "cells": [
  {
   "cell_type": "code",
   "execution_count": 4,
   "id": "7e3225a5",
   "metadata": {},
   "outputs": [
    {
     "name": "stdout",
     "output_type": "stream",
     "text": [
      "Enter a floating point number: 55.5\n"
     ]
    }
   ],
   "source": [
    "value1=float(input(\"Enter a floating point number: \"))"
   ]
  },
  {
   "cell_type": "code",
   "execution_count": 6,
   "id": "ddc02c93",
   "metadata": {},
   "outputs": [
    {
     "name": "stdout",
     "output_type": "stream",
     "text": [
      "Enter an integer: 20\n"
     ]
    }
   ],
   "source": [
    "value2=int(input(\"Enter an integer: \"))"
   ]
  },
  {
   "cell_type": "code",
   "execution_count": 3,
   "id": "ac1c441a",
   "metadata": {},
   "outputs": [
    {
     "name": "stdout",
     "output_type": "stream",
     "text": [
      "75.5\n"
     ]
    }
   ],
   "source": [
    "total=x+y\n",
    "print(total)"
   ]
  },
  {
   "cell_type": "markdown",
   "id": "f529d456",
   "metadata": {},
   "source": [
    "The sum is: 75.5\n"
   ]
  },
  {
   "cell_type": "code",
   "execution_count": 4,
   "id": "7e46bb28",
   "metadata": {},
   "outputs": [
    {
     "name": "stdout",
     "output_type": "stream",
     "text": [
      "35.5\n"
     ]
    }
   ],
   "source": [
    "total=x-y\n",
    "print(total)"
   ]
  },
  {
   "cell_type": "markdown",
   "id": "23bbeabe",
   "metadata": {},
   "source": [
    "The difference is: 35.5"
   ]
  },
  {
   "cell_type": "code",
   "execution_count": 5,
   "id": "38f69069",
   "metadata": {},
   "outputs": [
    {
     "name": "stdout",
     "output_type": "stream",
     "text": [
      "1110.0\n"
     ]
    }
   ],
   "source": [
    "total=x*y\n",
    "print(total)"
   ]
  },
  {
   "cell_type": "markdown",
   "id": "0168a21f",
   "metadata": {},
   "source": [
    "The product is: 1110"
   ]
  },
  {
   "cell_type": "code",
   "execution_count": 6,
   "id": "b9ed104d",
   "metadata": {},
   "outputs": [
    {
     "name": "stdout",
     "output_type": "stream",
     "text": [
      "2.775\n"
     ]
    }
   ],
   "source": [
    "total=x/y\n",
    "print(total)"
   ]
  },
  {
   "cell_type": "markdown",
   "id": "48818495",
   "metadata": {},
   "source": [
    "The difference is 2.775"
   ]
  },
  {
   "cell_type": "code",
   "execution_count": 7,
   "id": "8ac8b3bb",
   "metadata": {},
   "outputs": [
    {
     "name": "stdout",
     "output_type": "stream",
     "text": [
      "The type for the result is <class 'float'>\n"
     ]
    }
   ],
   "source": [
    "print('The type for the result is', type(value1))"
   ]
  },
  {
   "cell_type": "markdown",
   "id": "0ea9a13e",
   "metadata": {},
   "source": [
    "# Programming Assignment 1\n",
    "**Trevor McCormick** \n",
    "\n",
    "Version 1\n",
    "\n",
    "**CS-150-01 Bellarmine University**"
   ]
  },
  {
   "cell_type": "code",
   "execution_count": null,
   "id": "a55e5f3e",
   "metadata": {},
   "outputs": [],
   "source": []
  }
 ],
 "metadata": {
  "kernelspec": {
   "display_name": "Python 3",
   "language": "python",
   "name": "python3"
  },
  "language_info": {
   "codemirror_mode": {
    "name": "ipython",
    "version": 3
   },
   "file_extension": ".py",
   "mimetype": "text/x-python",
   "name": "python",
   "nbconvert_exporter": "python",
   "pygments_lexer": "ipython3",
   "version": "3.8.8"
  }
 },
 "nbformat": 4,
 "nbformat_minor": 5
}
